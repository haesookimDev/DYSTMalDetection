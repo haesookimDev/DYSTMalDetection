{
 "cells": [
  {
   "cell_type": "code",
   "execution_count": 1,
   "id": "e60287f4-7364-4a93-8212-7c0673f868a2",
   "metadata": {
    "tags": []
   },
   "outputs": [
    {
     "name": "stderr",
     "output_type": "stream",
     "text": [
      "/home/netsec/hs-AI/lib/python3.7/site-packages/pandas/compat/__init__.py:124: UserWarning: Could not import the lzma module. Your installed Python is incomplete. Attempting to use lzma compression will result in a RuntimeError.\n",
      "  warnings.warn(msg)\n",
      "/home/netsec/hs-AI/lib/python3.7/site-packages/tqdm/auto.py:21: TqdmWarning: IProgress not found. Please update jupyter and ipywidgets. See https://ipywidgets.readthedocs.io/en/stable/user_install.html\n",
      "  from .autonotebook import tqdm as notebook_tqdm\n"
     ]
    }
   ],
   "source": [
    "import pandas as pd\n",
    "import ast\n",
    "import os\n",
    "import numpy as np\n",
    "from tqdm.auto import tqdm"
   ]
  },
  {
   "cell_type": "code",
   "execution_count": 2,
   "id": "40a4279d-a3ad-4147-ae3c-bdb64358f891",
   "metadata": {
    "tags": []
   },
   "outputs": [],
   "source": [
    "API_LIST = pd.read_csv('./API_LIST.csv',index_col=0)"
   ]
  },
  {
   "cell_type": "code",
   "execution_count": 3,
   "id": "6d9d4cf2-5d72-4e7d-af05-5744ef664f55",
   "metadata": {
    "tags": []
   },
   "outputs": [],
   "source": [
    "CATEGORY_LIST = pd.read_csv('./CATEGORY_LIST.csv',index_col=0)"
   ]
  },
  {
   "cell_type": "code",
   "execution_count": 15,
   "id": "247400a7-aeef-40fb-b050-c4cbda33d88c",
   "metadata": {
    "tags": []
   },
   "outputs": [],
   "source": [
    "df = pd.read_csv('./malware_api_call_sequence.csv')"
   ]
  },
  {
   "cell_type": "code",
   "execution_count": 5,
   "id": "5961abd4-68d2-4d00-ae39-294531e5b055",
   "metadata": {
    "tags": []
   },
   "outputs": [],
   "source": [
    "df_b = pd.read_csv('./benign_api_call_sequence.csv')"
   ]
  },
  {
   "cell_type": "code",
   "execution_count": 4,
   "id": "ee705d88-534a-4115-b21e-4174375fbd92",
   "metadata": {
    "tags": []
   },
   "outputs": [],
   "source": [
    "dic = {'HashName':[],\n",
    "       'data':[],\n",
    "       'len':[],\n",
    "       'mal':[]}"
   ]
  },
  {
   "cell_type": "code",
   "execution_count": 8,
   "id": "e303d427-12e7-4636-98bf-c29b2baa8c5c",
   "metadata": {
    "tags": []
   },
   "outputs": [
    {
     "data": {
      "text/html": [
       "<div>\n",
       "<style scoped>\n",
       "    .dataframe tbody tr th:only-of-type {\n",
       "        vertical-align: middle;\n",
       "    }\n",
       "\n",
       "    .dataframe tbody tr th {\n",
       "        vertical-align: top;\n",
       "    }\n",
       "\n",
       "    .dataframe thead th {\n",
       "        text-align: right;\n",
       "    }\n",
       "</style>\n",
       "<table border=\"1\" class=\"dataframe\">\n",
       "  <thead>\n",
       "    <tr style=\"text-align: right;\">\n",
       "      <th></th>\n",
       "      <th>Unnamed: 0</th>\n",
       "      <th>HashName</th>\n",
       "      <th>api</th>\n",
       "      <th>category</th>\n",
       "      <th>mal</th>\n",
       "    </tr>\n",
       "  </thead>\n",
       "  <tbody>\n",
       "    <tr>\n",
       "      <th>0</th>\n",
       "      <td>0</td>\n",
       "      <td>00008a4647def264460c48f32eaf13c899234ca9</td>\n",
       "      <td>['LdrLoadDll', 'LdrGetProcedureAddress', 'LdrG...</td>\n",
       "      <td>['system', 'system', 'system', 'system', 'syst...</td>\n",
       "      <td>1.0</td>\n",
       "    </tr>\n",
       "    <tr>\n",
       "      <th>1</th>\n",
       "      <td>1</td>\n",
       "      <td>0000f08f89b171dc382913a0e570dc293e0ecbf0</td>\n",
       "      <td>['GetSystemTimeAsFileTime', 'LdrGetDllHandle',...</td>\n",
       "      <td>['synchronisation', 'system', 'system', 'syste...</td>\n",
       "      <td>1.0</td>\n",
       "    </tr>\n",
       "    <tr>\n",
       "      <th>2</th>\n",
       "      <td>2</td>\n",
       "      <td>000c71dcd6aced55190e12b0b1131aa611f9d720</td>\n",
       "      <td>['LdrLoadDll', 'LdrGetProcedureAddress', 'LdrG...</td>\n",
       "      <td>['system', 'system', 'system', 'system', 'syst...</td>\n",
       "      <td>1.0</td>\n",
       "    </tr>\n",
       "    <tr>\n",
       "      <th>3</th>\n",
       "      <td>3</td>\n",
       "      <td>0010d625e099a9858963e8cad4dec08bf35e9ed4</td>\n",
       "      <td>['NtAllocateVirtualMemory', 'NtFreeVirtualMemo...</td>\n",
       "      <td>['process', 'process', 'process', 'file', 'fil...</td>\n",
       "      <td>1.0</td>\n",
       "    </tr>\n",
       "    <tr>\n",
       "      <th>4</th>\n",
       "      <td>4</td>\n",
       "      <td>002756edd58c8d9c7817215382f377a8d3223e69</td>\n",
       "      <td>['NtAllocateVirtualMemory', 'NtFreeVirtualMemo...</td>\n",
       "      <td>['process', 'process', 'process', 'file', 'fil...</td>\n",
       "      <td>1.0</td>\n",
       "    </tr>\n",
       "  </tbody>\n",
       "</table>\n",
       "</div>"
      ],
      "text/plain": [
       "   Unnamed: 0                                  HashName  \\\n",
       "0           0  00008a4647def264460c48f32eaf13c899234ca9   \n",
       "1           1  0000f08f89b171dc382913a0e570dc293e0ecbf0   \n",
       "2           2  000c71dcd6aced55190e12b0b1131aa611f9d720   \n",
       "3           3  0010d625e099a9858963e8cad4dec08bf35e9ed4   \n",
       "4           4  002756edd58c8d9c7817215382f377a8d3223e69   \n",
       "\n",
       "                                                 api  \\\n",
       "0  ['LdrLoadDll', 'LdrGetProcedureAddress', 'LdrG...   \n",
       "1  ['GetSystemTimeAsFileTime', 'LdrGetDllHandle',...   \n",
       "2  ['LdrLoadDll', 'LdrGetProcedureAddress', 'LdrG...   \n",
       "3  ['NtAllocateVirtualMemory', 'NtFreeVirtualMemo...   \n",
       "4  ['NtAllocateVirtualMemory', 'NtFreeVirtualMemo...   \n",
       "\n",
       "                                            category  mal  \n",
       "0  ['system', 'system', 'system', 'system', 'syst...  1.0  \n",
       "1  ['synchronisation', 'system', 'system', 'syste...  1.0  \n",
       "2  ['system', 'system', 'system', 'system', 'syst...  1.0  \n",
       "3  ['process', 'process', 'process', 'file', 'fil...  1.0  \n",
       "4  ['process', 'process', 'process', 'file', 'fil...  1.0  "
      ]
     },
     "execution_count": 8,
     "metadata": {},
     "output_type": "execute_result"
    }
   ],
   "source": [
    "df.head()"
   ]
  },
  {
   "cell_type": "code",
   "execution_count": 16,
   "id": "d07ff5e3-3978-40b3-868f-81c51d99bf0e",
   "metadata": {
    "tags": []
   },
   "outputs": [],
   "source": [
    "df_pro = pd.DataFrame(dic)"
   ]
  },
  {
   "cell_type": "code",
   "execution_count": 10,
   "id": "7f3508d3-2867-4e9b-9a91-bcd61b9cd03a",
   "metadata": {
    "tags": []
   },
   "outputs": [],
   "source": [
    "df_pro_b = pd.DataFrame(dic)"
   ]
  },
  {
   "cell_type": "code",
   "execution_count": 17,
   "id": "fe97888a-acbd-4577-bfaf-a54fcdec9be0",
   "metadata": {
    "tags": []
   },
   "outputs": [
    {
     "name": "stderr",
     "output_type": "stream",
     "text": [
      " 63%|██████████████████████▏            | 4512/7121 [5:27:17<1:19:16,  1.82s/it]IOStream.flush timed out\n",
      " 70%|████████████████████████▍          | 4972/7121 [6:40:45<1:58:22,  3.30s/it]IOStream.flush timed out\n",
      " 77%|████████████████████████████▌        | 5504/7121 [7:48:18<55:27,  2.06s/it]IOStream.flush timed out\n",
      " 82%|████████████████████████████▋      | 5835/7121 [8:34:13<2:11:17,  6.13s/it]IOStream.flush timed out\n",
      " 84%|█████████████████████████████▍     | 5998/7121 [8:57:26<1:53:03,  6.04s/it]IOStream.flush timed out\n",
      " 87%|████████████████████████████████▎    | 6221/7121 [9:20:56<23:31,  1.57s/it]IOStream.flush timed out\n",
      " 90%|█████████████████████████████████▍   | 6436/7121 [9:44:54<18:01,  1.58s/it]IOStream.flush timed out\n",
      "100%|████████████████████████████████████| 7121/7121 [10:44:29<00:00,  5.43s/it]\n"
     ]
    }
   ],
   "source": [
    "for c, i in tqdm(df.iterrows(), total=len(df)):\n",
    "    a = ast.literal_eval(i['api'])\n",
    "    b = ast.literal_eval(i['category'])\n",
    "    for idx, j in enumerate(a):\n",
    "        a[idx]=API_LIST['0'].loc[j]\n",
    "    for idx, j in enumerate(b):\n",
    "        b[idx]=CATEGORY_LIST['0'].loc[j]\n",
    "    data = [a,b]\n",
    "    if len(data[0])==0:\n",
    "        continue\n",
    "    df_pro=df_pro.append({'HashName': i['HashName'],\n",
    "                          'data': data,\n",
    "                          'len': len(data[0]),\n",
    "                          'mal':0}, ignore_index=True)"
   ]
  },
  {
   "cell_type": "code",
   "execution_count": 19,
   "id": "8b1fe206-810e-4f61-8ce7-e72713e8930d",
   "metadata": {
    "tags": []
   },
   "outputs": [
    {
     "data": {
      "text/html": [
       "<div>\n",
       "<style scoped>\n",
       "    .dataframe tbody tr th:only-of-type {\n",
       "        vertical-align: middle;\n",
       "    }\n",
       "\n",
       "    .dataframe tbody tr th {\n",
       "        vertical-align: top;\n",
       "    }\n",
       "\n",
       "    .dataframe thead th {\n",
       "        text-align: right;\n",
       "    }\n",
       "</style>\n",
       "<table border=\"1\" class=\"dataframe\">\n",
       "  <thead>\n",
       "    <tr style=\"text-align: right;\">\n",
       "      <th></th>\n",
       "      <th>HashName</th>\n",
       "      <th>data</th>\n",
       "      <th>len</th>\n",
       "      <th>mal</th>\n",
       "    </tr>\n",
       "  </thead>\n",
       "  <tbody>\n",
       "    <tr>\n",
       "      <th>0</th>\n",
       "      <td>00008a4647def264460c48f32eaf13c899234ca9</td>\n",
       "      <td>[[139, 138, 138, 138, 138, 138, 138, 138, 138,...</td>\n",
       "      <td>4642.0</td>\n",
       "      <td>0.0</td>\n",
       "    </tr>\n",
       "    <tr>\n",
       "      <th>1</th>\n",
       "      <td>0000f08f89b171dc382913a0e570dc293e0ecbf0</td>\n",
       "      <td>[[98, 137, 138, 138, 138, 138, 138, 138, 138, ...</td>\n",
       "      <td>9189.0</td>\n",
       "      <td>0.0</td>\n",
       "    </tr>\n",
       "    <tr>\n",
       "      <th>2</th>\n",
       "      <td>000c71dcd6aced55190e12b0b1131aa611f9d720</td>\n",
       "      <td>[[139, 138, 138, 138, 138, 138, 138, 138, 138,...</td>\n",
       "      <td>771.0</td>\n",
       "      <td>0.0</td>\n",
       "    </tr>\n",
       "    <tr>\n",
       "      <th>3</th>\n",
       "      <td>0010d625e099a9858963e8cad4dec08bf35e9ed4</td>\n",
       "      <td>[[156, 172, 156, 83, 83, 83, 156, 98, 301, 156...</td>\n",
       "      <td>54588.0</td>\n",
       "      <td>0.0</td>\n",
       "    </tr>\n",
       "    <tr>\n",
       "      <th>4</th>\n",
       "      <td>002756edd58c8d9c7817215382f377a8d3223e69</td>\n",
       "      <td>[[156, 172, 156, 83, 83, 83, 156, 264, 94, 14,...</td>\n",
       "      <td>27.0</td>\n",
       "      <td>0.0</td>\n",
       "    </tr>\n",
       "  </tbody>\n",
       "</table>\n",
       "</div>"
      ],
      "text/plain": [
       "                                   HashName  \\\n",
       "0  00008a4647def264460c48f32eaf13c899234ca9   \n",
       "1  0000f08f89b171dc382913a0e570dc293e0ecbf0   \n",
       "2  000c71dcd6aced55190e12b0b1131aa611f9d720   \n",
       "3  0010d625e099a9858963e8cad4dec08bf35e9ed4   \n",
       "4  002756edd58c8d9c7817215382f377a8d3223e69   \n",
       "\n",
       "                                                data      len  mal  \n",
       "0  [[139, 138, 138, 138, 138, 138, 138, 138, 138,...   4642.0  0.0  \n",
       "1  [[98, 137, 138, 138, 138, 138, 138, 138, 138, ...   9189.0  0.0  \n",
       "2  [[139, 138, 138, 138, 138, 138, 138, 138, 138,...    771.0  0.0  \n",
       "3  [[156, 172, 156, 83, 83, 83, 156, 98, 301, 156...  54588.0  0.0  \n",
       "4  [[156, 172, 156, 83, 83, 83, 156, 264, 94, 14,...     27.0  0.0  "
      ]
     },
     "execution_count": 19,
     "metadata": {},
     "output_type": "execute_result"
    }
   ],
   "source": [
    "df_pro.head()"
   ]
  },
  {
   "cell_type": "code",
   "execution_count": 18,
   "id": "8aa21540-8f48-4cf1-ad5e-c4b262038e6e",
   "metadata": {
    "tags": []
   },
   "outputs": [],
   "source": [
    "df_pro.to_csv('./preprocessed_mal_data_all.csv')"
   ]
  },
  {
   "cell_type": "code",
   "execution_count": 11,
   "id": "9d91b3c9-9130-45c7-bfc6-e574c45cb76b",
   "metadata": {
    "tags": []
   },
   "outputs": [
    {
     "name": "stderr",
     "output_type": "stream",
     "text": [
      "100%|█████████████████████████████████████| 11803/11803 [03:36<00:00, 54.63it/s]\n"
     ]
    }
   ],
   "source": [
    "for c, i in tqdm(df_b.iterrows(), total=len(df_b)):\n",
    "    a = ast.literal_eval(i['api'])\n",
    "    b = ast.literal_eval(i['category'])\n",
    "    for idx, j in enumerate(a):\n",
    "        a[idx]=API_LIST['0'].loc[j]\n",
    "    for idx, j in enumerate(b):\n",
    "        b[idx]=CATEGORY_LIST['0'].loc[j]\n",
    "    data = [a,b]\n",
    "    if len(data[0])==0:\n",
    "        continue\n",
    "    df_pro_b=df_pro_b.append({'HashName': i['HashName'],\n",
    "                          'data': data,\n",
    "                          'len': len(data[0]),\n",
    "                          'mal':0}, ignore_index=True)"
   ]
  },
  {
   "cell_type": "code",
   "execution_count": 13,
   "id": "37e3b168-a40d-4b78-bfa6-d689eee3086a",
   "metadata": {
    "tags": []
   },
   "outputs": [],
   "source": [
    "df_pro_b.to_csv('./preprocessed_ben_data_all.csv')"
   ]
  },
  {
   "cell_type": "code",
   "execution_count": null,
   "id": "7b60bca0-6a6d-42a1-a00a-c53c83fbd586",
   "metadata": {},
   "outputs": [],
   "source": [
    "aa = []\n",
    "for i in df['api']:\n",
    "    aa.append(ast.literal_eval(i))"
   ]
  },
  {
   "cell_type": "code",
   "execution_count": null,
   "id": "458be8c6-d044-4724-8995-9440dc29ea0d",
   "metadata": {},
   "outputs": [],
   "source": [
    "bb = []\n",
    "for i in df['category']:\n",
    "    bb.append(ast.literal_eval(i))"
   ]
  },
  {
   "cell_type": "code",
   "execution_count": 15,
   "id": "e40cfb15-e018-4e0b-a497-3d051fa08b39",
   "metadata": {
    "tags": []
   },
   "outputs": [],
   "source": [
    "API_LIST=[]"
   ]
  },
  {
   "cell_type": "code",
   "execution_count": 17,
   "id": "7ae6f825-70fc-4268-840a-abce0d8fd75d",
   "metadata": {
    "tags": []
   },
   "outputs": [
    {
     "name": "stderr",
     "output_type": "stream",
     "text": [
      "100%|█████████████████████████████████████| 7121/7121 [1:28:02<00:00,  1.35it/s]\n"
     ]
    }
   ],
   "source": [
    "for i in tqdm(df['api'], total=len(df['api'])):\n",
    "    for j in ast.literal_eval(i):\n",
    "        if j not in API_LIST:\n",
    "            API_LIST.append(j)"
   ]
  },
  {
   "cell_type": "code",
   "execution_count": 16,
   "id": "ac2a361b-6bea-4600-ab86-0cdfb99b6528",
   "metadata": {
    "tags": []
   },
   "outputs": [
    {
     "name": "stderr",
     "output_type": "stream",
     "text": [
      "100%|████████████████████████████████████| 11803/11803 [01:21<00:00, 145.25it/s]\n"
     ]
    }
   ],
   "source": [
    "for i in tqdm(df_b['api'], total=len(df_b['api'])):\n",
    "    for j in ast.literal_eval(i):\n",
    "        if j not in API_LIST:\n",
    "            API_LIST.append(j)"
   ]
  },
  {
   "cell_type": "code",
   "execution_count": 26,
   "id": "882a72fc-a5ca-47f9-83cd-0af80d276fcc",
   "metadata": {
    "tags": []
   },
   "outputs": [],
   "source": [
    "CATEGORY_LIST=[]"
   ]
  },
  {
   "cell_type": "code",
   "execution_count": 27,
   "id": "95297055-de57-4f50-bb92-e98329cb434d",
   "metadata": {
    "tags": []
   },
   "outputs": [
    {
     "name": "stderr",
     "output_type": "stream",
     "text": [
      "100%|█████████████████████████████████████| 11803/11803 [02:15<00:00, 87.24it/s]\n"
     ]
    }
   ],
   "source": [
    "for i in tqdm(df_b['category'], total=len(df_b['category'])):\n",
    "    for j in ast.literal_eval(i):\n",
    "        if j not in API_LIST:\n",
    "            API_LIST.append(j)"
   ]
  },
  {
   "cell_type": "code",
   "execution_count": 28,
   "id": "065bb57e-2f7c-4abb-840c-9c5709c0129a",
   "metadata": {
    "tags": []
   },
   "outputs": [
    {
     "name": "stderr",
     "output_type": "stream",
     "text": [
      "100%|█████████████████████████████████████| 7121/7121 [1:32:38<00:00,  1.28it/s]\n"
     ]
    }
   ],
   "source": [
    "for i in tqdm(df['category'], total=len(df['category'])):\n",
    "    for j in ast.literal_eval(i):\n",
    "        if j not in CATEGORY_LIST:\n",
    "            CATEGORY_LIST.append(j)"
   ]
  },
  {
   "cell_type": "code",
   "execution_count": 18,
   "id": "8358e1f9-7fb5-4bf6-a0ea-c8fa0354bda6",
   "metadata": {
    "tags": []
   },
   "outputs": [],
   "source": [
    "API_LIST.sort()"
   ]
  },
  {
   "cell_type": "code",
   "execution_count": 23,
   "id": "2cd205fd-abd1-4b54-a472-fb4dbf26e3f7",
   "metadata": {
    "tags": []
   },
   "outputs": [],
   "source": [
    "dictionary = {API_LIST[i] : i+1 for i in range(len(API_LIST))}"
   ]
  },
  {
   "cell_type": "code",
   "execution_count": 29,
   "id": "afe7dd4d-3005-4cea-92a8-b35c1a16bfe8",
   "metadata": {
    "tags": []
   },
   "outputs": [],
   "source": [
    "CATEGORY_LIST.sort()"
   ]
  },
  {
   "cell_type": "code",
   "execution_count": 30,
   "id": "a901eb2c-11fe-41bd-bf84-01b1d729390a",
   "metadata": {
    "tags": []
   },
   "outputs": [],
   "source": [
    "dictionary_c = {CATEGORY_LIST[i] : i+1 for i in range(len(CATEGORY_LIST))}"
   ]
  },
  {
   "cell_type": "code",
   "execution_count": 24,
   "id": "71c4db60-5c17-404c-b720-351d42173598",
   "metadata": {
    "tags": []
   },
   "outputs": [],
   "source": [
    "df_a = pd.DataFrame.from_dict(dictionary, orient='index')"
   ]
  },
  {
   "cell_type": "code",
   "execution_count": 31,
   "id": "27368583-f510-4fd0-a3a3-28f1b07c071f",
   "metadata": {
    "tags": []
   },
   "outputs": [],
   "source": [
    "df_c = pd.DataFrame.from_dict(dictionary_c, orient='index')"
   ]
  },
  {
   "cell_type": "code",
   "execution_count": 25,
   "id": "30b8676d-6cb1-47d6-95c0-2f2d3b37ca90",
   "metadata": {
    "tags": []
   },
   "outputs": [],
   "source": [
    "df_a.to_csv('API_LIST.csv')"
   ]
  },
  {
   "cell_type": "code",
   "execution_count": 32,
   "id": "0b744f1c-63be-4347-bd27-3ec766e7e649",
   "metadata": {
    "tags": []
   },
   "outputs": [],
   "source": [
    "df_c.to_csv('CATEGORY_LIST.csv')"
   ]
  },
  {
   "cell_type": "code",
   "execution_count": null,
   "id": "8da5bc94-cc5a-4b50-b6b8-355fef191ab1",
   "metadata": {},
   "outputs": [],
   "source": []
  }
 ],
 "metadata": {
  "kernelspec": {
   "display_name": "Python 3 (ipykernel)",
   "language": "python",
   "name": "python3"
  },
  "language_info": {
   "codemirror_mode": {
    "name": "ipython",
    "version": 3
   },
   "file_extension": ".py",
   "mimetype": "text/x-python",
   "name": "python",
   "nbconvert_exporter": "python",
   "pygments_lexer": "ipython3",
   "version": "3.7.16"
  }
 },
 "nbformat": 4,
 "nbformat_minor": 5
}
