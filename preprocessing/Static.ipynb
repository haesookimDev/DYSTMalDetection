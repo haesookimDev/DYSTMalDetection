{
 "cells": [
  {
   "cell_type": "code",
   "execution_count": 2,
   "id": "077b0b32-dcf7-4500-b399-88128c477068",
   "metadata": {
    "tags": []
   },
   "outputs": [
    {
     "name": "stderr",
     "output_type": "stream",
     "text": [
      "/home/netsec/hs-AI/lib/python3.7/site-packages/tqdm/auto.py:21: TqdmWarning: IProgress not found. Please update jupyter and ipywidgets. See https://ipywidgets.readthedocs.io/en/stable/user_install.html\n",
      "  from .autonotebook import tqdm as notebook_tqdm\n"
     ]
    }
   ],
   "source": [
    "import os\n",
    "import numpy as np\n",
    "from PIL import Image\n",
    "import json\n",
    "import pefile\n",
    "from tqdm.auto import tqdm"
   ]
  },
  {
   "cell_type": "code",
   "execution_count": 11,
   "id": "2afc4a0f-387f-46bf-85b2-699688922160",
   "metadata": {
    "tags": []
   },
   "outputs": [],
   "source": [
    "def getBinaryData(filepath):\n",
    "    binaryValues = []\n",
    "    file = open(filepath, \"rb\")\n",
    "    data = file.read(1)  # read byte by byte\n",
    "    while data !=b\"\":\n",
    "        try:\n",
    "            binaryValues.append(ord(data))  # store value to array\n",
    "        except TypeError:\n",
    "            pass\n",
    "        data = file.read(1)  # get next byte value\n",
    "\n",
    "\n",
    "    return binaryValues"
   ]
  },
  {
   "cell_type": "code",
   "execution_count": 25,
   "id": "8cbabff0-442f-48ad-9662-3a0dc3df559f",
   "metadata": {
    "tags": []
   },
   "outputs": [],
   "source": [
    "def extract_static(filepath):\n",
    "    binvalue = getBinaryData(filepath)\n",
    "    pe = pefile.PE(filepath)\n",
    "    pointer_to_raw_data = []\n",
    "    for section in pe.sections:\n",
    "        pointer_to_raw_data.append(hex(section.PointerToRawData))\n",
    "    width = 256\n",
    "    height = 256\n",
    "    static_data = np.zeros((width, height,len(pointer_to_raw_data)+1))\n",
    "    w = 0\n",
    "    h = 0\n",
    "    s = 0\n",
    "    for i, v in enumerate(binvalue):\n",
    "        for address in pointer_to_raw_data:\n",
    "            if i==int(int(address, 16)):\n",
    "                s+=1\n",
    "                break\n",
    "        if i%2==0:\n",
    "            w = v\n",
    "        else:\n",
    "            h = v\n",
    "            static_data[w][h][s]+=1\n",
    "            w = 0\n",
    "            v = 0\n",
    "    return static_data"
   ]
  },
  {
   "cell_type": "code",
   "execution_count": null,
   "id": "8f3e00a6-feb8-4a9d-ba03-5d0b23b6afbe",
   "metadata": {},
   "outputs": [],
   "source": [
    "def d_compress(data_array):\n",
    "    return compressed_data"
   ]
  },
  {
   "cell_type": "code",
   "execution_count": 20,
   "id": "af1fd5a2-8be9-4511-b7d8-0cdd2d99f0d1",
   "metadata": {
    "tags": []
   },
   "outputs": [],
   "source": [
    "BENIGN_FILE_PATH = \"./benign_raw_data/\"\n",
    "BENIGN_FILE_list = os.listdir(BENIGN_FILE_PATH)"
   ]
  },
  {
   "cell_type": "code",
   "execution_count": 36,
   "id": "911a4067-3d62-4f58-b4d1-73de4fc74de1",
   "metadata": {
    "tags": []
   },
   "outputs": [
    {
     "data": {
      "text/plain": [
       "11803"
      ]
     },
     "execution_count": 36,
     "metadata": {},
     "output_type": "execute_result"
    }
   ],
   "source": [
    "len(BENIGN_FILE_list)"
   ]
  },
  {
   "cell_type": "code",
   "execution_count": 40,
   "id": "2d8cacba-47ea-417d-8a0b-0e3e16599eef",
   "metadata": {
    "tags": []
   },
   "outputs": [
    {
     "name": "stderr",
     "output_type": "stream",
     "text": [
      "100%|█████████████████████████████████████| 3901/3901 [2:11:03<00:00,  2.02s/it]\n"
     ]
    }
   ],
   "source": [
    "for file_list in tqdm(BENIGN_FILE_list[7902:], total=len(BENIGN_FILE_list[7902:])):\n",
    "    exted_data = extract_static(BENIGN_FILE_PATH+file_list)\n",
    "    np.save('./benign_npy_data/'+file_list, exted_data)"
   ]
  },
  {
   "cell_type": "code",
   "execution_count": 28,
   "id": "791236d3-ee74-4d10-b814-4527f8e940d0",
   "metadata": {
    "tags": []
   },
   "outputs": [],
   "source": [
    "MAL_FILE_PATH = \"./malware_raw_data/\"\n",
    "MAL_FILE_list = os.listdir(MAL_FILE_PATH)"
   ]
  },
  {
   "cell_type": "code",
   "execution_count": 32,
   "id": "99acfcf0-fca3-4444-86c2-5035a675abd5",
   "metadata": {
    "tags": []
   },
   "outputs": [
    {
     "name": "stderr",
     "output_type": "stream",
     "text": [
      "100%|█████████████████████████████████████████| 996/996 [11:29<00:00,  1.45it/s]\n"
     ]
    }
   ],
   "source": [
    "for file_list in tqdm(MAL_FILE_list[6125:], total=len(MAL_FILE_list[6125:])):\n",
    "    exted_data = extract_static(MAL_FILE_PATH+file_list)\n",
    "    np.save('./malware_npy_data/'+file_list, exted_data)"
   ]
  },
  {
   "cell_type": "code",
   "execution_count": null,
   "id": "9ea95792-47bf-4b3b-a1d1-79a086f11812",
   "metadata": {
    "tags": []
   },
   "outputs": [],
   "source": [
    "pe = pefile.PE(MAL_FILE_PATH+MAL_FILE_list[6124])"
   ]
  },
  {
   "cell_type": "code",
   "execution_count": 134,
   "id": "1538a1c6-c513-48f7-9832-532c00fadc03",
   "metadata": {},
   "outputs": [],
   "source": [
    "a=extract_static('./sample_data/mal/9601')"
   ]
  },
  {
   "cell_type": "code",
   "execution_count": 136,
   "id": "923e6e5d-05a1-4a2e-984e-4c3705ad9171",
   "metadata": {},
   "outputs": [
    {
     "data": {
      "text/plain": [
       "(256, 256, 5)"
      ]
     },
     "execution_count": 136,
     "metadata": {},
     "output_type": "execute_result"
    }
   ],
   "source": [
    "a.shape"
   ]
  },
  {
   "cell_type": "code",
   "execution_count": 140,
   "id": "efc3353a-0341-4339-bd71-816050c9e775",
   "metadata": {},
   "outputs": [],
   "source": [
    "b=extract_static('./sample_data/mal/9601')"
   ]
  },
  {
   "cell_type": "code",
   "execution_count": null,
   "id": "ae302ac7-14c8-4724-9d7c-5ff68950bc9e",
   "metadata": {},
   "outputs": [],
   "source": [
    "def "
   ]
  },
  {
   "cell_type": "code",
   "execution_count": 193,
   "id": "a151f035-66cd-44b1-a78a-22a1a8d36f98",
   "metadata": {},
   "outputs": [],
   "source": [
    "a=a.reshape(-1,5)"
   ]
  },
  {
   "cell_type": "code",
   "execution_count": 191,
   "id": "7dcaad52-763a-4187-be50-64bf16440f84",
   "metadata": {},
   "outputs": [],
   "source": [
    "a=a.reshape(256,256,5)"
   ]
  },
  {
   "cell_type": "code",
   "execution_count": 192,
   "id": "fb04e407-05d6-4d7b-84ee-8a4cc00121fe",
   "metadata": {},
   "outputs": [
    {
     "data": {
      "text/plain": [
       "True"
      ]
     },
     "execution_count": 192,
     "metadata": {},
     "output_type": "execute_result"
    }
   ],
   "source": [
    "np.array_equal(a,b)"
   ]
  },
  {
   "cell_type": "code",
   "execution_count": 143,
   "id": "baec4116-bb70-415f-afc4-4514893c3b94",
   "metadata": {},
   "outputs": [],
   "source": [
    "from sklearn.decomposition import PCA"
   ]
  },
  {
   "cell_type": "code",
   "execution_count": 178,
   "id": "bfc9c294-af2c-44ff-af65-7052057fb2e7",
   "metadata": {},
   "outputs": [],
   "source": [
    "pca = PCA(n_components=4)"
   ]
  },
  {
   "cell_type": "code",
   "execution_count": 195,
   "id": "a0244d9a-f078-464e-b939-6b00cb4b4cb5",
   "metadata": {},
   "outputs": [
    {
     "data": {
      "text/plain": [
       "PCA(n_components=4)"
      ]
     },
     "execution_count": 195,
     "metadata": {},
     "output_type": "execute_result"
    }
   ],
   "source": [
    "pca.fit(a)"
   ]
  },
  {
   "cell_type": "code",
   "execution_count": 196,
   "id": "f4ab1449-26cc-48af-80b7-f61457d50bdd",
   "metadata": {},
   "outputs": [],
   "source": [
    "a_pca = pca.transform(a)"
   ]
  },
  {
   "cell_type": "code",
   "execution_count": 197,
   "id": "cae36b29-a0e9-4e29-92eb-17c24d247fcc",
   "metadata": {},
   "outputs": [],
   "source": [
    "a_pca=a_pca.reshape(256,256,4)"
   ]
  },
  {
   "cell_type": "code",
   "execution_count": 199,
   "id": "df13e465-a2f7-4373-85f6-658c2d1cd1bd",
   "metadata": {},
   "outputs": [
    {
     "data": {
      "text/plain": [
       "588.9379545498002"
      ]
     },
     "execution_count": 199,
     "metadata": {},
     "output_type": "execute_result"
    }
   ],
   "source": [
    "a_pca.max()"
   ]
  },
  {
   "cell_type": "code",
   "execution_count": 200,
   "id": "ac202912-d8dc-4ca6-a2b8-8edbd9bb4ed1",
   "metadata": {},
   "outputs": [
    {
     "data": {
      "text/plain": [
       "384.0"
      ]
     },
     "execution_count": 200,
     "metadata": {},
     "output_type": "execute_result"
    }
   ],
   "source": [
    "b.max()"
   ]
  },
  {
   "cell_type": "code",
   "execution_count": 41,
   "id": "6a08bb27-52f9-4b96-99cc-121050fec373",
   "metadata": {
    "tags": []
   },
   "outputs": [
    {
     "name": "stderr",
     "output_type": "stream",
     "text": [
      "/home/netsec/hs-AI/lib/python3.7/site-packages/pandas/compat/__init__.py:124: UserWarning: Could not import the lzma module. Your installed Python is incomplete. Attempting to use lzma compression will result in a RuntimeError.\n",
      "  warnings.warn(msg)\n"
     ]
    }
   ],
   "source": [
    "import pandas as pd"
   ]
  },
  {
   "cell_type": "code",
   "execution_count": 42,
   "id": "54c2e8d6-1519-488b-8987-ccb5dde52b17",
   "metadata": {
    "tags": []
   },
   "outputs": [],
   "source": [
    "df=pd.read_csv('./malware_api_call_sequence.csv')"
   ]
  },
  {
   "cell_type": "code",
   "execution_count": 43,
   "id": "28cac9ac-1db6-4dca-8c73-a5e2c6ec30bb",
   "metadata": {
    "tags": []
   },
   "outputs": [],
   "source": [
    "df.drop('Unnamed: 0',axis=1, inplace=True)"
   ]
  },
  {
   "cell_type": "code",
   "execution_count": 45,
   "id": "2b1f12d0-7301-48d1-84a7-1c98422aa42f",
   "metadata": {
    "tags": []
   },
   "outputs": [],
   "source": [
    "MAL_FILE_PATH = \"./malware_npy_data/\"\n",
    "MAL_FILE_list = os.listdir(MAL_FILE_PATH)\n",
    "MAL_FILE_list.sort()"
   ]
  },
  {
   "cell_type": "code",
   "execution_count": 46,
   "id": "da7c66b6-8fba-4108-82fa-dd0b5bac2161",
   "metadata": {
    "tags": []
   },
   "outputs": [
    {
     "data": {
      "text/plain": [
       "7120"
      ]
     },
     "execution_count": 46,
     "metadata": {},
     "output_type": "execute_result"
    }
   ],
   "source": [
    "len(MAL_FILE_list)"
   ]
  },
  {
   "cell_type": "code",
   "execution_count": 47,
   "id": "3b38af70-22ab-481e-8ac0-1b712d9fe4a2",
   "metadata": {
    "tags": []
   },
   "outputs": [
    {
     "data": {
      "text/plain": [
       "['00008a4647def264460c48f32eaf13c899234ca9.npy',\n",
       " '0000f08f89b171dc382913a0e570dc293e0ecbf0.npy',\n",
       " '000c71dcd6aced55190e12b0b1131aa611f9d720.npy',\n",
       " '0010d625e099a9858963e8cad4dec08bf35e9ed4.npy',\n",
       " '002756edd58c8d9c7817215382f377a8d3223e69.npy']"
      ]
     },
     "execution_count": 47,
     "metadata": {},
     "output_type": "execute_result"
    }
   ],
   "source": [
    "MAL_FILE_list[:5]"
   ]
  },
  {
   "cell_type": "code",
   "execution_count": 48,
   "id": "b1e6332e-297b-49ed-9712-79826545819c",
   "metadata": {
    "tags": []
   },
   "outputs": [
    {
     "data": {
      "text/plain": [
       "['22c526cd131585bf5cc73b41246d78898e6e6daf.npy',\n",
       " '22cb21ccc70d6667a17df32ba6094f961fcce8ca.npy',\n",
       " '22cbc8451fb392e9d82feac2256eeeb4611e645d.npy',\n",
       " '22cd86e37fb9cec0fa7ce2c7ea542ae85744db18.npy',\n",
       " '22d59f5e88e2a94a417672c663bec9d509206c25.npy']"
      ]
     },
     "execution_count": 48,
     "metadata": {},
     "output_type": "execute_result"
    }
   ],
   "source": [
    "MAL_FILE_list[995:1000]"
   ]
  },
  {
   "cell_type": "code",
   "execution_count": 56,
   "id": "5f62413a-db82-4490-8b39-c5402170adef",
   "metadata": {
    "tags": []
   },
   "outputs": [],
   "source": [
    "dic = {'HashName':[],\n",
    "       'api':[],\n",
    "       'category':[],\n",
    "       'mal':[]}"
   ]
  },
  {
   "cell_type": "code",
   "execution_count": 53,
   "id": "4d95c3a4-add2-4254-843d-6bcda21ebf7c",
   "metadata": {
    "tags": []
   },
   "outputs": [
    {
     "data": {
      "text/html": [
       "<div>\n",
       "<style scoped>\n",
       "    .dataframe tbody tr th:only-of-type {\n",
       "        vertical-align: middle;\n",
       "    }\n",
       "\n",
       "    .dataframe tbody tr th {\n",
       "        vertical-align: top;\n",
       "    }\n",
       "\n",
       "    .dataframe thead th {\n",
       "        text-align: right;\n",
       "    }\n",
       "</style>\n",
       "<table border=\"1\" class=\"dataframe\">\n",
       "  <thead>\n",
       "    <tr style=\"text-align: right;\">\n",
       "      <th></th>\n",
       "      <th>HashName</th>\n",
       "      <th>api</th>\n",
       "      <th>category</th>\n",
       "      <th>mal</th>\n",
       "    </tr>\n",
       "  </thead>\n",
       "  <tbody>\n",
       "    <tr>\n",
       "      <th>0</th>\n",
       "      <td>00008a4647def264460c48f32eaf13c899234ca9</td>\n",
       "      <td>['LdrLoadDll', 'LdrGetProcedureAddress', 'LdrG...</td>\n",
       "      <td>['system', 'system', 'system', 'system', 'syst...</td>\n",
       "      <td>1.0</td>\n",
       "    </tr>\n",
       "    <tr>\n",
       "      <th>1</th>\n",
       "      <td>0000f08f89b171dc382913a0e570dc293e0ecbf0</td>\n",
       "      <td>['GetSystemTimeAsFileTime', 'LdrGetDllHandle',...</td>\n",
       "      <td>['synchronisation', 'system', 'system', 'syste...</td>\n",
       "      <td>1.0</td>\n",
       "    </tr>\n",
       "    <tr>\n",
       "      <th>2</th>\n",
       "      <td>000c71dcd6aced55190e12b0b1131aa611f9d720</td>\n",
       "      <td>['LdrLoadDll', 'LdrGetProcedureAddress', 'LdrG...</td>\n",
       "      <td>['system', 'system', 'system', 'system', 'syst...</td>\n",
       "      <td>1.0</td>\n",
       "    </tr>\n",
       "    <tr>\n",
       "      <th>3</th>\n",
       "      <td>0010d625e099a9858963e8cad4dec08bf35e9ed4</td>\n",
       "      <td>['NtAllocateVirtualMemory', 'NtFreeVirtualMemo...</td>\n",
       "      <td>['process', 'process', 'process', 'file', 'fil...</td>\n",
       "      <td>1.0</td>\n",
       "    </tr>\n",
       "    <tr>\n",
       "      <th>4</th>\n",
       "      <td>002756edd58c8d9c7817215382f377a8d3223e69</td>\n",
       "      <td>['NtAllocateVirtualMemory', 'NtFreeVirtualMemo...</td>\n",
       "      <td>['process', 'process', 'process', 'file', 'fil...</td>\n",
       "      <td>1.0</td>\n",
       "    </tr>\n",
       "  </tbody>\n",
       "</table>\n",
       "</div>"
      ],
      "text/plain": [
       "                                   HashName  \\\n",
       "0  00008a4647def264460c48f32eaf13c899234ca9   \n",
       "1  0000f08f89b171dc382913a0e570dc293e0ecbf0   \n",
       "2  000c71dcd6aced55190e12b0b1131aa611f9d720   \n",
       "3  0010d625e099a9858963e8cad4dec08bf35e9ed4   \n",
       "4  002756edd58c8d9c7817215382f377a8d3223e69   \n",
       "\n",
       "                                                 api  \\\n",
       "0  ['LdrLoadDll', 'LdrGetProcedureAddress', 'LdrG...   \n",
       "1  ['GetSystemTimeAsFileTime', 'LdrGetDllHandle',...   \n",
       "2  ['LdrLoadDll', 'LdrGetProcedureAddress', 'LdrG...   \n",
       "3  ['NtAllocateVirtualMemory', 'NtFreeVirtualMemo...   \n",
       "4  ['NtAllocateVirtualMemory', 'NtFreeVirtualMemo...   \n",
       "\n",
       "                                            category  mal  \n",
       "0  ['system', 'system', 'system', 'system', 'syst...  1.0  \n",
       "1  ['synchronisation', 'system', 'system', 'syste...  1.0  \n",
       "2  ['system', 'system', 'system', 'system', 'syst...  1.0  \n",
       "3  ['process', 'process', 'process', 'file', 'fil...  1.0  \n",
       "4  ['process', 'process', 'process', 'file', 'fil...  1.0  "
      ]
     },
     "execution_count": 53,
     "metadata": {},
     "output_type": "execute_result"
    }
   ],
   "source": [
    "df.head()"
   ]
  },
  {
   "cell_type": "code",
   "execution_count": 57,
   "id": "ef94149f-1082-48ae-b50c-62231246f896",
   "metadata": {
    "tags": []
   },
   "outputs": [],
   "source": [
    "df_data = pd.DataFrame(dic)"
   ]
  },
  {
   "cell_type": "code",
   "execution_count": 58,
   "id": "a7736a92-1259-40ab-bddd-6bcf5bae215f",
   "metadata": {
    "tags": []
   },
   "outputs": [],
   "source": [
    "for i in MAL_FILE_list[:1000]:\n",
    "    df_data = df_data.append(df[df['HashName']==os.path.splitext(i)[0]])"
   ]
  },
  {
   "cell_type": "code",
   "execution_count": 59,
   "id": "b0e16e02-5bf3-4016-9fbd-1c9e71ef6b68",
   "metadata": {
    "tags": []
   },
   "outputs": [
    {
     "name": "stdout",
     "output_type": "stream",
     "text": [
      "<class 'pandas.core.frame.DataFrame'>\n",
      "Int64Index: 1000 entries, 0 to 999\n",
      "Data columns (total 4 columns):\n",
      " #   Column    Non-Null Count  Dtype  \n",
      "---  ------    --------------  -----  \n",
      " 0   HashName  1000 non-null   object \n",
      " 1   api       1000 non-null   object \n",
      " 2   category  1000 non-null   object \n",
      " 3   mal       1000 non-null   float64\n",
      "dtypes: float64(1), object(3)\n",
      "memory usage: 39.1+ KB\n"
     ]
    }
   ],
   "source": [
    "df_data.info()"
   ]
  },
  {
   "cell_type": "code",
   "execution_count": 60,
   "id": "2144b9c2-78e1-42ee-9079-f21e78d810c4",
   "metadata": {
    "tags": []
   },
   "outputs": [],
   "source": [
    "df_data.to_csv('./aaa.csv')"
   ]
  },
  {
   "cell_type": "code",
   "execution_count": 57,
   "id": "e771810c-4c91-4656-be21-36a8b167ca85",
   "metadata": {
    "tags": []
   },
   "outputs": [],
   "source": [
    "def createGreyScaleImageSpecificWith(dataSet, outputfilename, mal, width=0,):\n",
    "    if width == 0:\n",
    "        size = len(dataSet)\n",
    "        if size < 10240:\n",
    "            width = 32\n",
    "        elif 10240 <= size <= 10240*3:\n",
    "            width = 64\n",
    "        elif 10240*3 <= size <= 10240*6:\n",
    "            width = 128\n",
    "        elif 10240*6 <= size <= 10240*10:\n",
    "            width = 256\n",
    "        elif 10240*10 <= size <= 10240*20:\n",
    "            width = 384\n",
    "        elif 10240*20 <= size <= 10240*50:\n",
    "            width = 512\n",
    "        elif 10240*50 <= size <= 10240*100:\n",
    "            width = 768\n",
    "        else:\n",
    "            width = 1024\n",
    "\n",
    "    height = int(size/width)+1\n",
    "\n",
    "    image = Image.new('L', (width, height))\n",
    "\n",
    "    image.putdata(dataSet)\n",
    "\n",
    "    imagename = outputfilename+\".png\"\n",
    "    image = image.resize((256,256), 3)\n",
    "    image.save(\"./images/\"+ mal+ '/' + imagename)"
   ]
  },
  {
   "cell_type": "code",
   "execution_count": null,
   "id": "bd0b1789-0f8f-47b9-a493-7036ee613a18",
   "metadata": {},
   "outputs": [],
   "source": [
    "def createGreyScaleImageSpecificWith(dataSet, width=0):\n",
    "    api_dic =  {1: (0,0,128), \n",
    "                2: (0,0,255), \n",
    "                3: (255,255,128), \n",
    "                4: (0,64,0), \n",
    "                5: (255,128,0), \n",
    "                6: (64,128,128),\n",
    "                7: (255,0,128),\n",
    "                8: (128,0,128),\n",
    "                9: (0,255,0),\n",
    "                10: (255,0,0),\n",
    "                11: (128,0,0),\n",
    "                12: (128,255,255),\n",
    "                13: (255,128,128),\n",
    "                14: (192,192,192),\n",
    "                15: (128,64,0),\n",
    "                16: (255,255,255)}\n",
    "\n",
    "    height = int(size/width)+1\n",
    "\n",
    "    image = Image.new('L', (width, height))\n",
    "\n",
    "    image.putdata(dataSet)\n",
    "\n",
    "    imagename = outputfilename+\".png\"\n",
    "    image = image.resize((256,256), 3)\n",
    "    image.save(\"./images/\"+ mal+ '/' + imagename)"
   ]
  },
  {
   "cell_type": "code",
   "execution_count": 1,
   "id": "fea07430-6512-4d43-ae8e-3d7120ee9009",
   "metadata": {
    "tags": []
   },
   "outputs": [],
   "source": [
    "import os\n",
    "import numpy as np\n",
    "from PIL import Image\n",
    "import json"
   ]
  },
  {
   "cell_type": "code",
   "execution_count": 2,
   "id": "ff70d2ea-66bf-4956-91eb-21c72eaaf37e",
   "metadata": {
    "tags": []
   },
   "outputs": [
    {
     "name": "stderr",
     "output_type": "stream",
     "text": [
      "/home/netsec/hs-AI/lib/python3.7/site-packages/pandas/compat/__init__.py:124: UserWarning: Could not import the lzma module. Your installed Python is incomplete. Attempting to use lzma compression will result in a RuntimeError.\n",
      "  warnings.warn(msg)\n"
     ]
    }
   ],
   "source": [
    "import pandas as pd"
   ]
  },
  {
   "cell_type": "code",
   "execution_count": 58,
   "id": "98fcf6bc-409b-4bf6-990d-f798be4892f8",
   "metadata": {
    "tags": []
   },
   "outputs": [],
   "source": [
    "def do_preprocessing(path, file, mal):\n",
    "    base_name = os.path.splitext(file)[0]\n",
    "    outputFilename = base_name\n",
    "    binaryData = getBinaryData(path+base_name)\n",
    "    createGreyScaleImageSpecificWith(binaryData, outputFilename, mal)"
   ]
  },
  {
   "cell_type": "code",
   "execution_count": null,
   "id": "0cc58c21-7df2-4c5b-a864-5faf20b1b3fc",
   "metadata": {},
   "outputs": [],
   "source": []
  },
  {
   "cell_type": "code",
   "execution_count": 3,
   "id": "2bc381c8-a230-4a69-9099-c45cf402792d",
   "metadata": {
    "tags": []
   },
   "outputs": [],
   "source": [
    "df_m = pd.read_csv('./extract_processed_mal_data.csv')\n",
    "df_b = pd.read_csv('./extract_processed_ben_data.csv')"
   ]
  },
  {
   "cell_type": "code",
   "execution_count": 4,
   "id": "f4dba104-cf47-4aac-88ef-5a1892464a11",
   "metadata": {
    "tags": []
   },
   "outputs": [],
   "source": [
    "mal_list = df_m['HashName'].to_list()\n",
    "ben_list = df_b['HashName'].to_list()"
   ]
  },
  {
   "cell_type": "code",
   "execution_count": 9,
   "id": "1154fb97-204a-4ea0-b282-1d77bf69b532",
   "metadata": {
    "tags": []
   },
   "outputs": [
    {
     "data": {
      "text/plain": [
       "'00420ff2763a6b6b9a73f70a42872fb6de085da9'"
      ]
     },
     "execution_count": 9,
     "metadata": {},
     "output_type": "execute_result"
    }
   ],
   "source": [
    "sorted(mal_list)[0]"
   ]
  },
  {
   "cell_type": "code",
   "execution_count": 37,
   "id": "24e54561-8633-4cbe-8dcc-1328ba0bdf62",
   "metadata": {
    "tags": []
   },
   "outputs": [],
   "source": [
    "a=getBinaryData(\"./malware_raw_data/\"+sorted(mal_list)[0])"
   ]
  },
  {
   "cell_type": "code",
   "execution_count": 51,
   "id": "da8acd2a-fd97-40d2-9fc7-c2ca44fa3bb2",
   "metadata": {
    "tags": []
   },
   "outputs": [],
   "source": [
    "for _ in range(64):\n",
    "    a.append(0)"
   ]
  },
  {
   "cell_type": "code",
   "execution_count": 72,
   "id": "04b5b266-683b-43a5-8844-7106bcf5f244",
   "metadata": {
    "tags": []
   },
   "outputs": [],
   "source": [
    "aa=np.array(a)"
   ]
  },
  {
   "cell_type": "code",
   "execution_count": 53,
   "id": "0fb7f35e-ac5c-4a52-b0b8-24ac68e665b7",
   "metadata": {
    "tags": []
   },
   "outputs": [
    {
     "data": {
      "text/plain": [
       "(79104,)"
      ]
     },
     "execution_count": 53,
     "metadata": {},
     "output_type": "execute_result"
    }
   ],
   "source": [
    "aa.shape"
   ]
  },
  {
   "cell_type": "code",
   "execution_count": 54,
   "id": "a3d2010b-3958-4f56-9171-16cdf2f4d14d",
   "metadata": {
    "tags": []
   },
   "outputs": [],
   "source": [
    "size = aa.shape[0]\n",
    "if size < 10240:\n",
    "    width = 32\n",
    "elif 10240 <= size <= 10240*3:\n",
    "    width = 64\n",
    "elif 10240*3 <= size <= 10240*6:\n",
    "    width = 128\n",
    "elif 10240*6 <= size <= 10240*10:\n",
    "    width = 256\n",
    "elif 10240*10 <= size <= 10240*20:\n",
    "    width = 384\n",
    "elif 10240*20 <= size <= 10240*50:\n",
    "    width = 512\n",
    "elif 10240*50 <= size <= 10240*100:\n",
    "    width = 768\n",
    "else:\n",
    "    width = 1024"
   ]
  },
  {
   "cell_type": "code",
   "execution_count": 55,
   "id": "95baa8f4-46ed-4e66-929c-9877ea4fc678",
   "metadata": {
    "tags": []
   },
   "outputs": [
    {
     "data": {
      "text/plain": [
       "256"
      ]
     },
     "execution_count": 55,
     "metadata": {},
     "output_type": "execute_result"
    }
   ],
   "source": [
    "width"
   ]
  },
  {
   "cell_type": "code",
   "execution_count": 56,
   "id": "a5369355-e329-40d6-bf46-3621b4e020fc",
   "metadata": {
    "tags": []
   },
   "outputs": [
    {
     "data": {
      "text/plain": [
       "309.0"
      ]
     },
     "execution_count": 56,
     "metadata": {},
     "output_type": "execute_result"
    }
   ],
   "source": [
    "aa.shape[0]/width"
   ]
  },
  {
   "cell_type": "code",
   "execution_count": 44,
   "id": "6a3ac1fb-908b-491f-a3a2-96a13b7011fb",
   "metadata": {
    "tags": []
   },
   "outputs": [
    {
     "data": {
      "text/plain": [
       "78848"
      ]
     },
     "execution_count": 44,
     "metadata": {},
     "output_type": "execute_result"
    }
   ],
   "source": [
    "256*308"
   ]
  },
  {
   "cell_type": "code",
   "execution_count": 45,
   "id": "db6b0092-cd54-4a6e-b2a2-1c64efbe857c",
   "metadata": {
    "tags": []
   },
   "outputs": [
    {
     "data": {
      "text/plain": [
       "64"
      ]
     },
     "execution_count": 45,
     "metadata": {},
     "output_type": "execute_result"
    }
   ],
   "source": [
    "78912-78848"
   ]
  },
  {
   "cell_type": "code",
   "execution_count": 63,
   "id": "c8637090-79b5-4885-aa3b-c2e574a1a73d",
   "metadata": {
    "tags": []
   },
   "outputs": [],
   "source": [
    "np.set_printoptions(threshold=309)"
   ]
  },
  {
   "cell_type": "code",
   "execution_count": 75,
   "id": "e70509c7-4c40-4345-a8c2-715c4382316f",
   "metadata": {
    "tags": []
   },
   "outputs": [],
   "source": [
    "aaa=aa.reshape((309,256))"
   ]
  },
  {
   "cell_type": "code",
   "execution_count": 76,
   "id": "13497c05-396d-4c42-afa4-c395854df64c",
   "metadata": {
    "tags": []
   },
   "outputs": [
    {
     "name": "stdout",
     "output_type": "stream",
     "text": [
      "[[ 77  90 144 ...   0  15   1]\n",
      " [ 11   1   6 ...   0   0   0]\n",
      " [  0   0   0 ...   0   0   0]\n",
      " ...\n",
      " [111   0 110 ...  67  82  84]\n",
      " [ 46 100 108 ...   0   0   0]\n",
      " [ 98  53  49 ...   0   0   0]]\n"
     ]
    }
   ],
   "source": [
    "print(aaa)"
   ]
  },
  {
   "cell_type": "code",
   "execution_count": 81,
   "id": "88ca8129-a66f-4c71-811c-486e9bf94320",
   "metadata": {
    "tags": []
   },
   "outputs": [],
   "source": [
    "aaaa = aaa.tolist()"
   ]
  },
  {
   "cell_type": "code",
   "execution_count": 90,
   "id": "bcf66920-662b-4a66-8e98-dd370d7ec928",
   "metadata": {
    "tags": []
   },
   "outputs": [],
   "source": [
    "hh=[]\n",
    "for i in aaaa:\n",
    "    for j in i:\n",
    "        h = format(j, 'x')\n",
    "        hh.append(h)"
   ]
  },
  {
   "cell_type": "code",
   "execution_count": 94,
   "id": "dcd1957f-c00a-4f5f-a9a8-4daed83e775d",
   "metadata": {
    "tags": []
   },
   "outputs": [
    {
     "name": "stdout",
     "output_type": "stream",
     "text": [
      "4d 5a 90 0 3 0 0 0 4 0 0 0 ff ff 0 0 b8 0 0 0\n"
     ]
    }
   ],
   "source": [
    "print(\" \".join(hh[:20]))"
   ]
  },
  {
   "cell_type": "code",
   "execution_count": 101,
   "id": "b6bee7ce-7c77-4879-83fa-d3d747320f7c",
   "metadata": {
    "tags": []
   },
   "outputs": [
    {
     "name": "stdout",
     "output_type": "stream",
     "text": [
      "77 90 144 0 3 0 0 0 4 0 0 0 255 255 0 0 184 0 0 0\n"
     ]
    }
   ],
   "source": [
    "print(' '.join(map(str, a[:20])))"
   ]
  },
  {
   "cell_type": "code",
   "execution_count": 25,
   "id": "e50b28f4-2965-472a-a0a7-378c83dd1555",
   "metadata": {
    "tags": []
   },
   "outputs": [],
   "source": [
    "for _ in range(64):\n",
    "    a.append(0)"
   ]
  },
  {
   "cell_type": "code",
   "execution_count": 59,
   "id": "b96536c1-db5e-47bc-a2c7-5d5368bd67af",
   "metadata": {
    "tags": []
   },
   "outputs": [
    {
     "name": "stderr",
     "output_type": "stream",
     "text": [
      "100%|███████████████████████████████████████| 1935/1935 [00:49<00:00, 39.49it/s]\n"
     ]
    }
   ],
   "source": [
    "for i in tqdm(mal_list, total=len(mal_list)):\n",
    "    do_preprocessing(\"./malware_raw_data/\", i, '1')"
   ]
  },
  {
   "cell_type": "code",
   "execution_count": 60,
   "id": "faf16621-047c-423f-b4a6-4ffa784690fd",
   "metadata": {
    "tags": []
   },
   "outputs": [
    {
     "name": "stderr",
     "output_type": "stream",
     "text": [
      "100%|███████████████████████████████████████| 1952/1952 [02:04<00:00, 15.70it/s]\n"
     ]
    }
   ],
   "source": [
    "for i in tqdm(ben_list, total=len(ben_list)):\n",
    "    do_preprocessing(\"./benign_raw_data/\", i, '0')"
   ]
  },
  {
   "cell_type": "code",
   "execution_count": 47,
   "id": "c4ce8da7-10b1-4813-b666-1c438bdd536f",
   "metadata": {
    "tags": []
   },
   "outputs": [],
   "source": [
    "import shutil"
   ]
  },
  {
   "cell_type": "code",
   "execution_count": 61,
   "id": "2702e200-4a15-4c49-b0b9-b7cd5b9306a3",
   "metadata": {
    "tags": []
   },
   "outputs": [],
   "source": [
    "MAL_PATH='./images/1/'\n",
    "MAL_FILES=os.listdir(MAL_PATH)"
   ]
  },
  {
   "cell_type": "code",
   "execution_count": 62,
   "id": "5c9764b3-1949-4733-9113-822aedfc3170",
   "metadata": {
    "tags": []
   },
   "outputs": [],
   "source": [
    "BEN_PATH='./images/0/'\n",
    "BEN_FILES=os.listdir(BEN_PATH)"
   ]
  },
  {
   "cell_type": "code",
   "execution_count": 63,
   "id": "c2e51eba-a7f5-4095-a7de-4320269a0604",
   "metadata": {
    "tags": []
   },
   "outputs": [
    {
     "name": "stderr",
     "output_type": "stream",
     "text": [
      "100%|████████████████████████████████████| 1935/1935 [00:00<00:00, 60283.13it/s]\n"
     ]
    }
   ],
   "source": [
    "len_mal = len(MAL_FILES)\n",
    "for idx, i in tqdm(enumerate(MAL_FILES), total=len(MAL_FILES)):\n",
    "    if int(len_mal*0.9) >= idx > int(len_mal*0.8):\n",
    "        shutil.move(MAL_PATH + i, './images/val/' + i)\n",
    "    elif idx > int(len_mal*0.9):\n",
    "        shutil.move(MAL_PATH + i, './images/test/' + i)\n",
    "    else:\n",
    "        shutil.move(MAL_PATH + i, './images/train/' + i)"
   ]
  },
  {
   "cell_type": "code",
   "execution_count": 64,
   "id": "e8c4ea75-b4aa-4706-a5de-5187ce87e28c",
   "metadata": {
    "tags": []
   },
   "outputs": [
    {
     "name": "stderr",
     "output_type": "stream",
     "text": [
      "100%|████████████████████████████████████| 1952/1952 [00:00<00:00, 51229.74it/s]\n"
     ]
    }
   ],
   "source": [
    "len_ben = len(BEN_FILES)\n",
    "for idx, i in tqdm(enumerate(BEN_FILES), total=len(BEN_FILES)):\n",
    "    if int(len_ben*0.9) >= idx > int(len_ben*0.8):\n",
    "        shutil.move(BEN_PATH + i, './images/val/' + i)\n",
    "    elif idx > int(len_ben*0.9):\n",
    "        shutil.move(BEN_PATH + i, './images/test/' + i)\n",
    "    else:\n",
    "        shutil.move(BEN_PATH + i, './images/train/' + i)"
   ]
  },
  {
   "cell_type": "code",
   "execution_count": null,
   "id": "6ee15016-c655-49ce-888f-8d82af895d4b",
   "metadata": {},
   "outputs": [],
   "source": []
  }
 ],
 "metadata": {
  "kernelspec": {
   "display_name": "Python 3 (ipykernel)",
   "language": "python",
   "name": "python3"
  },
  "language_info": {
   "codemirror_mode": {
    "name": "ipython",
    "version": 3
   },
   "file_extension": ".py",
   "mimetype": "text/x-python",
   "name": "python",
   "nbconvert_exporter": "python",
   "pygments_lexer": "ipython3",
   "version": "3.7.16"
  }
 },
 "nbformat": 4,
 "nbformat_minor": 5
}
