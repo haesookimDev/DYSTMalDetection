{
 "cells": [
  {
   "cell_type": "code",
   "execution_count": 2,
   "id": "ce9e30f8-a948-40f3-a886-e6693c1de801",
   "metadata": {
    "tags": []
   },
   "outputs": [
    {
     "name": "stderr",
     "output_type": "stream",
     "text": [
      "/home/netsec/hs-AI/lib/python3.7/site-packages/pandas/compat/__init__.py:124: UserWarning: Could not import the lzma module. Your installed Python is incomplete. Attempting to use lzma compression will result in a RuntimeError.\n",
      "  warnings.warn(msg)\n",
      "/home/netsec/hs-AI/lib/python3.7/site-packages/tqdm/auto.py:21: TqdmWarning: IProgress not found. Please update jupyter and ipywidgets. See https://ipywidgets.readthedocs.io/en/stable/user_install.html\n",
      "  from .autonotebook import tqdm as notebook_tqdm\n"
     ]
    }
   ],
   "source": [
    "import pandas as pd\n",
    "import numpy as np\n",
    "import os\n",
    "from tqdm.auto import tqdm\n",
    "from sklearn.decomposition import PCA"
   ]
  },
  {
   "cell_type": "code",
   "execution_count": 12,
   "id": "a415e39d-ca00-458a-80d4-4e76d0ef89c8",
   "metadata": {
    "tags": []
   },
   "outputs": [],
   "source": [
    "import ast\n",
    "import shutil\n",
    "from tensorflow.keras.preprocessing.image import img_to_array, load_img"
   ]
  },
  {
   "cell_type": "code",
   "execution_count": 3,
   "id": "0effc695-efb6-4260-ad10-f18bc7473f54",
   "metadata": {
    "tags": []
   },
   "outputs": [],
   "source": [
    "def createFolder(directory):\n",
    "    try:\n",
    "        if not os.path.exists(directory):\n",
    "            os.makedirs(directory)\n",
    "    except OSError:\n",
    "        print ('Error: Creating directory. ' +  directory)"
   ]
  },
  {
   "cell_type": "code",
   "execution_count": 6,
   "id": "e694af67-7ab0-4be6-afd1-88cf9ab56544",
   "metadata": {
    "tags": []
   },
   "outputs": [],
   "source": [
    "def d_compress(data_array):\n",
    "    pca = PCA(n_components=4)\n",
    "    if data_array.shape[2]<4:\n",
    "        empty_arr = np.zeros((256,256,data_array.shape[2]))\n",
    "        data_array=np.concatenate([data_array, empty_arr],axis=2)\n",
    "        return data_array[:,:,:4]\n",
    "    data_array=data_array.reshape(-1,data_array.shape[2])\n",
    "    a_pca = pca.fit_transform(data_array)\n",
    "    a_pca=a_pca.reshape(256,256,a_pca.shape[1])\n",
    "    return a_pca"
   ]
  },
  {
   "cell_type": "code",
   "execution_count": 4,
   "id": "a5c4e2e1-e80f-4eeb-967a-ea79dc0cb910",
   "metadata": {
    "tags": []
   },
   "outputs": [],
   "source": [
    "df_m = pd.read_csv('./extract_processed_mal_data.csv')\n",
    "df_b = pd.read_csv('./extract_processed_ben_data.csv')"
   ]
  },
  {
   "cell_type": "code",
   "execution_count": 5,
   "id": "b29bda2a-bcc3-4df1-983f-12cd54a4e3e7",
   "metadata": {},
   "outputs": [],
   "source": [
    "mal_list = df_m['HashName'].to_list()\n",
    "ben_list = df_b['HashName'].to_list()"
   ]
  },
  {
   "cell_type": "code",
   "execution_count": 15,
   "id": "847a2c24-8155-497f-8819-890bedd64a39",
   "metadata": {
    "tags": []
   },
   "outputs": [
    {
     "data": {
      "text/plain": [
       "1    [[137, 138, 137, 157, 98, 10, 137, 138, 179, 1...\n",
       "Name: data, dtype: object"
      ]
     },
     "execution_count": 15,
     "metadata": {},
     "output_type": "execute_result"
    }
   ],
   "source": [
    "df_m.loc[df_m['HashName']==mal_list[1]]['data']"
   ]
  },
  {
   "cell_type": "code",
   "execution_count": 8,
   "id": "9744dca1-06e1-4140-953a-9339bffa3e79",
   "metadata": {
    "tags": []
   },
   "outputs": [],
   "source": [
    "createFolder('./ex_data/benign_compressed_data')"
   ]
  },
  {
   "cell_type": "code",
   "execution_count": 9,
   "id": "95174030-67a3-46d5-8fc3-66705e6f4861",
   "metadata": {
    "tags": []
   },
   "outputs": [],
   "source": [
    "createFolder('./ex_data/malware_compressed_data')"
   ]
  },
  {
   "cell_type": "code",
   "execution_count": 7,
   "id": "0989fa06-84f0-430c-b559-d9f3800bd571",
   "metadata": {},
   "outputs": [
    {
     "name": "stderr",
     "output_type": "stream",
     "text": [
      "100%|███████████████████████████████████████| 1935/1935 [01:45<00:00, 18.42it/s]\n"
     ]
    }
   ],
   "source": [
    "for i in tqdm(mal_list, total=len(mal_list)):\n",
    "    np.save('./ex_data/malware_compressed_data/'+i,d_compress(np.load('./malware_npy_data/'+i+'.npy')))"
   ]
  },
  {
   "cell_type": "code",
   "execution_count": 9,
   "id": "33729ed5-9ecc-4a65-8f45-68f686b931fb",
   "metadata": {},
   "outputs": [
    {
     "name": "stderr",
     "output_type": "stream",
     "text": [
      "100%|███████████████████████████████████████| 1952/1952 [01:32<00:00, 21.13it/s]\n"
     ]
    }
   ],
   "source": [
    "for i in tqdm(ben_list, total=len(ben_list)):\n",
    "    np.save('./ex_data/benign_compressed_data/'+i,d_compress(np.load('./benign_npy_data/'+i+'.npy')))"
   ]
  },
  {
   "cell_type": "code",
   "execution_count": 15,
   "id": "5d55621e-a845-4e32-a837-0aee126dbaf0",
   "metadata": {
    "tags": []
   },
   "outputs": [
    {
     "name": "stderr",
     "output_type": "stream",
     "text": [
      "100%|██████████████████████████████████████| 1952/1952 [00:04<00:00, 469.41it/s]\n"
     ]
    }
   ],
   "source": [
    "for c, i in tqdm(df_b.iterrows(), total=len(df_b)):\n",
    "    img = load_img('./images/'+ i['HashName']+'.png', color_mode=\"grayscale\")\n",
    "    st = img_to_array(img)\n",
    "    dy=ast.literal_eval(i['data'])\n",
    "    dy=np.array(dy)\n",
    "    np.savez('./ex_data/data_2/0/'+i['HashName'], st=st, dy=dy)"
   ]
  },
  {
   "cell_type": "code",
   "execution_count": 14,
   "id": "3a0bbc28-f8c7-410f-bf1e-03a19f4e53dd",
   "metadata": {
    "tags": []
   },
   "outputs": [
    {
     "name": "stderr",
     "output_type": "stream",
     "text": [
      "100%|██████████████████████████████████████| 1935/1935 [00:04<00:00, 439.43it/s]\n"
     ]
    }
   ],
   "source": [
    "for c, i in tqdm(df_m.iterrows(), total=len(df_m)):\n",
    "    img = load_img('./images/'+ i['HashName']+'.png', color_mode=\"grayscale\")\n",
    "    st = img_to_array(img)\n",
    "    dy=ast.literal_eval(i['data'])\n",
    "    dy=np.array(dy)\n",
    "    np.savez('./ex_data/data_2/1/'+i['HashName'], st=st, dy=dy)"
   ]
  },
  {
   "cell_type": "code",
   "execution_count": 18,
   "id": "34a880b5-3588-4dce-bd09-3367feb8dec9",
   "metadata": {
    "tags": []
   },
   "outputs": [],
   "source": [
    "MAL_PATH='./ex_data/data_2/1/'\n",
    "MAL_FILES=os.listdir(MAL_PATH)"
   ]
  },
  {
   "cell_type": "code",
   "execution_count": 19,
   "id": "7aedefd4-2805-4b04-afac-a4645f78c0ab",
   "metadata": {
    "tags": []
   },
   "outputs": [],
   "source": [
    "BEN_PATH='./ex_data/data_2/0/'\n",
    "BEN_FILES=os.listdir(BEN_PATH)"
   ]
  },
  {
   "cell_type": "code",
   "execution_count": 20,
   "id": "1bc6fa6b-fc5a-4d77-aaf2-f69f15bba6f5",
   "metadata": {
    "tags": []
   },
   "outputs": [
    {
     "name": "stderr",
     "output_type": "stream",
     "text": [
      "100%|████████████████████████████████████| 1938/1938 [00:00<00:00, 59336.03it/s]\n"
     ]
    }
   ],
   "source": [
    "# len_mal = len(MAL_FILES)\n",
    "# for idx, i in tqdm(enumerate(MAL_FILES), total=len(MAL_FILES)):\n",
    "#     if int(len_mal*0.9) >= idx > int(len_mal*0.8):\n",
    "#         shutil.move(MAL_PATH + i, './ex_data/data_2/val/' + i)\n",
    "#     elif idx > int(len_mal*0.9):\n",
    "#         shutil.move(MAL_PATH + i, './ex_data/data_2/test/' + i)\n",
    "#     else:\n",
    "#         shutil.move(MAL_PATH + i, './ex_data/data_2/train/' + i)"
   ]
  },
  {
   "cell_type": "code",
   "execution_count": 21,
   "id": "ebf46518-a8d4-4036-a7f8-eef54501561a",
   "metadata": {
    "tags": []
   },
   "outputs": [
    {
     "name": "stderr",
     "output_type": "stream",
     "text": [
      "100%|████████████████████████████████████| 1955/1955 [00:00<00:00, 67275.42it/s]\n"
     ]
    }
   ],
   "source": [
    "# len_ben = len(BEN_FILES)\n",
    "# for idx, i in tqdm(enumerate(BEN_FILES), total=len(BEN_FILES)):\n",
    "#     if int(len_ben*0.9) >= idx > int(len_ben*0.8):\n",
    "#         shutil.move(BEN_PATH + i, './ex_data/data_2/val/' + i)\n",
    "#     elif idx > int(len_ben*0.9):\n",
    "#         shutil.move(BEN_PATH + i, './ex_data/data_2/test/' + i)\n",
    "#     else:\n",
    "#         shutil.move(BEN_PATH + i, './ex_data/data_2/train/' + i)"
   ]
  },
  {
   "cell_type": "code",
   "execution_count": null,
   "id": "39146bc9-9c55-4bd5-8d62-79e2848899b0",
   "metadata": {},
   "outputs": [],
   "source": []
  }
 ],
 "metadata": {
  "kernelspec": {
   "display_name": "Python 3 (ipykernel)",
   "language": "python",
   "name": "python3"
  },
  "language_info": {
   "codemirror_mode": {
    "name": "ipython",
    "version": 3
   },
   "file_extension": ".py",
   "mimetype": "text/x-python",
   "name": "python",
   "nbconvert_exporter": "python",
   "pygments_lexer": "ipython3",
   "version": "3.7.16"
  }
 },
 "nbformat": 4,
 "nbformat_minor": 5
}
